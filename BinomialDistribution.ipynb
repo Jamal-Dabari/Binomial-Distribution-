{
  "nbformat": 4,
  "nbformat_minor": 0,
  "metadata": {
    "colab": {
      "provenance": [],
      "authorship_tag": "ABX9TyM8YhsWa1KPyqljOklxOudY",
      "include_colab_link": true
    },
    "kernelspec": {
      "name": "python3",
      "display_name": "Python 3"
    },
    "language_info": {
      "name": "python"
    }
  },
  "cells": [
    {
      "cell_type": "markdown",
      "metadata": {
        "id": "view-in-github",
        "colab_type": "text"
      },
      "source": [
        "<a href=\"https://colab.research.google.com/github/Jamal-Dabari/Binomial-Distribution-/blob/main/BinomialDistribution.ipynb\" target=\"_parent\"><img src=\"https://colab.research.google.com/assets/colab-badge.svg\" alt=\"Open In Colab\"/></a>"
      ]
    },
    {
      "cell_type": "code",
      "execution_count": null,
      "metadata": {
        "colab": {
          "base_uri": "https://localhost:8080/"
        },
        "id": "47tXjz2APETT",
        "outputId": "baaf8b6b-73ed-4f19-e35b-81abb74de8f1"
      },
      "outputs": [
        {
          "output_type": "stream",
          "name": "stdout",
          "text": [
            "Beta-binomial distribution:\n",
            "  Mean: 11.991\n",
            "  Variance: 43.010\n",
            "\n",
            "Estimated probability from Beta-binomial as if it were Binomial:\n",
            "  Estimated probability: 0.400\n",
            "  Mean under Binomial assumption: 12.009\n",
            "  Expected variance under Binomial assumption: 7.198\n",
            "\n",
            "Variance Comparison:\n",
            "  The Binomial assumption's variance is 5.981 times the variance of the Beta-Binomial's variance.\n"
          ]
        }
      ],
      "source": [
        "import numpy as np\n",
        "from scipy.stats import beta, binom\n",
        "\n",
        "# Parameters\n",
        "num_trials = 30  # Number of trials per experiment\n",
        "shape_alpha = 2  # Alpha parameter for Beta distribution\n",
        "shape_beta = 3   # Beta parameter for Beta distribution\n",
        "num_samples = 10000  # Total number of samples to generate\n",
        "\n",
        "# Step 1: Generate Beta-binomial random samples\n",
        "# Sample probabilities from Beta distribution\n",
        "probabilities = np.random.beta(shape_alpha, shape_beta, num_samples)\n",
        "\n",
        "# Generate Beta-binomial data\n",
        "beta_binom_data = [np.random.binomial(num_trials, prob) for prob in probabilities]\n",
        "\n",
        "# Calculate mean and variance of the Beta-binomial data\n",
        "mean_beta_binom = np.mean(beta_binom_data)\n",
        "var_beta_binom = np.var(beta_binom_data)\n",
        "\n",
        "# Step 2: Generate Binomial random samples\n",
        "mean_probability = shape_alpha / (shape_alpha + shape_beta)\n",
        "binom_data = np.random.binomial(num_trials, mean_probability, num_samples)\n",
        "\n",
        "# Calculate mean and variance of the Binomial data\n",
        "mean_binom = np.mean(binom_data)\n",
        "var_binom = np.var(binom_data)\n",
        "\n",
        "# Step 3: Estimate probability p from Beta-binomial data under Binomial assumption\n",
        "estimated_prob = mean_beta_binom / num_trials\n",
        "\n",
        "# Step 4: Calculate expected variance under Binomial assumption\n",
        "expected_var_binom = num_trials * estimated_prob * (1 - estimated_prob)\n",
        "\n",
        "# Step 5: Calculate over-dispersion factor\n",
        "over_dispersion_ratio = var_beta_binom / var_binom\n",
        "\n",
        "# Results\n",
        "print(\"Beta-binomial distribution:\")\n",
        "print(f\"  Mean: {mean_beta_binom:.3f}\")\n",
        "print(f\"  Variance: {var_beta_binom:.3f}\")\n",
        "\n",
        "print(\"\\nEstimated probability from Beta-binomial:\")\n",
        "print(f\"  Estimated probability: {estimated_prob:.3f}\")\n",
        "print(f\"  Mean under Binomial assumption: {mean_binom:.3f}\")\n",
        "print(f\"  Expected variance under Binomial assumption: {expected_var_binom:.3f}\")\n",
        "\n",
        "print(\"\\nVariance Comparison:\")\n",
        "print(f\"  The Binomial assumption's variance is {over_dispersion_ratio:.3f} times the variance of the Beta-Binomial's variance.\")\n"
      ]
    }
  ]
}